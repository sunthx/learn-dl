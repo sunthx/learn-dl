{
 "cells": [
  {
   "cell_type": "code",
   "execution_count": 3,
   "id": "initial_id",
   "metadata": {
    "collapsed": true,
    "ExecuteTime": {
     "end_time": "2023-12-08T03:10:12.461009800Z",
     "start_time": "2023-12-08T03:10:12.452477600Z"
    }
   },
   "outputs": [],
   "source": [
    "import torch"
   ]
  },
  {
   "cell_type": "markdown",
   "source": [
    "# 定义张量"
   ],
   "metadata": {
    "collapsed": false
   },
   "id": "cb136fa47fb60ea2"
  },
  {
   "cell_type": "code",
   "execution_count": 12,
   "outputs": [
    {
     "name": "stdout",
     "output_type": "stream",
     "text": [
      "tensor([[1., 1., 1.],\n",
      "        [1., 1., 1.],\n",
      "        [1., 1., 1.],\n",
      "        [1., 1., 1.],\n",
      "        [1., 1., 1.]])\n",
      "tensor([[[0., 0., 0.],\n",
      "         [0., 0., 0.],\n",
      "         [0., 0., 0.],\n",
      "         [0., 0., 0.],\n",
      "         [0., 0., 0.]]])\n",
      "tensor([[[[ 1.7715, -1.9737, -0.3431],\n",
      "          [ 0.2098, -0.2523, -0.1424],\n",
      "          [ 1.3488, -0.7662, -0.1890],\n",
      "          [-0.8312,  0.4030,  0.7720],\n",
      "          [ 0.9848, -0.2217,  0.2031]],\n",
      "\n",
      "         [[ 0.9168,  0.3324,  0.9744],\n",
      "          [ 0.8477,  0.2665, -0.6254],\n",
      "          [-0.6882,  0.3890,  1.8701],\n",
      "          [-0.3914, -2.1947, -0.3529],\n",
      "          [-0.9043,  0.2378,  1.9893]]]])\n"
     ]
    }
   ],
   "source": [
    "#定义一个尺寸为（5,3）的二阶张量\n",
    "x = torch.ones(5,3)\n",
    "print(x)\n",
    "\n",
    "#定义一个尺寸为（1,5,3）的三阶张量\n",
    "y = torch.zeros(1,5,3)\n",
    "print(y)\n",
    "\n",
    "#定义一个尺寸为（1,2,5,3）的四阶张量\n",
    "z = torch.randn(1,2,5,3)\n",
    "print(z)"
   ],
   "metadata": {
    "collapsed": false,
    "ExecuteTime": {
     "end_time": "2023-12-08T03:14:45.879947300Z",
     "start_time": "2023-12-08T03:14:45.870066700Z"
    }
   },
   "id": "c377d0cd6fccd3e3"
  },
  {
   "cell_type": "markdown",
   "source": [
    "# 访问张量"
   ],
   "metadata": {
    "collapsed": false
   },
   "id": "8f3776b577bf7969"
  },
  {
   "cell_type": "code",
   "execution_count": 16,
   "outputs": [
    {
     "name": "stdout",
     "output_type": "stream",
     "text": [
      "tensor([[-0.4788,  0.4213, -1.4437,  0.7774],\n",
      "        [ 0.8531,  0.0939, -0.2082, -0.0611],\n",
      "        [ 2.6093, -0.8995, -0.1357, -0.3704]])\n",
      "---- 访问张量\n"
     ]
    },
    {
     "data": {
      "text/plain": "tensor(-0.2082)"
     },
     "execution_count": 16,
     "metadata": {},
     "output_type": "execute_result"
    }
   ],
   "source": [
    "a = torch.randn(3,4)\n",
    "print(a)\n",
    "print(\"---- 访问张量\")\n",
    "\n",
    "# 通过切片访问：第三列的所有元素\n",
    "a[:,2]\n",
    "\n",
    "# 通过索引访问：第二行第三列的元素\n",
    "a[1,2]"
   ],
   "metadata": {
    "collapsed": false,
    "ExecuteTime": {
     "end_time": "2023-12-08T06:05:20.440590100Z",
     "start_time": "2023-12-08T06:05:20.431534400Z"
    }
   },
   "id": "763a74f7bb22d61d"
  },
  {
   "cell_type": "markdown",
   "source": [
    "# 张量运算"
   ],
   "metadata": {
    "collapsed": false
   },
   "id": "e720cb66de9fe69c"
  },
  {
   "cell_type": "code",
   "execution_count": null,
   "outputs": [],
   "source": [],
   "metadata": {
    "collapsed": false
   },
   "id": "b37aa0209dfa650c"
  }
 ],
 "metadata": {
  "kernelspec": {
   "display_name": "Python 3",
   "language": "python",
   "name": "python3"
  },
  "language_info": {
   "codemirror_mode": {
    "name": "ipython",
    "version": 2
   },
   "file_extension": ".py",
   "mimetype": "text/x-python",
   "name": "python",
   "nbconvert_exporter": "python",
   "pygments_lexer": "ipython2",
   "version": "2.7.6"
  }
 },
 "nbformat": 4,
 "nbformat_minor": 5
}
